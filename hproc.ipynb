{
 "cells": [
  {
   "cell_type": "code",
   "execution_count": 1,
   "metadata": {},
   "outputs": [],
   "source": [
    "import sqlite3 #importing sqlite3 to perform sql functions on the database\n",
    "import matplotlib.pyplot as plt #matplotlib.pyplot for creation of interactive plots"
   ]
  },
  {
   "cell_type": "code",
   "execution_count": 2,
   "metadata": {},
   "outputs": [],
   "source": [
    "con=sqlite3.connect(\"hospital.db\") #establish a connection to hospital.db to query and update data from the database."
   ]
  },
  {
   "cell_type": "code",
   "execution_count": null,
   "metadata": {},
   "outputs": [],
   "source": [
    "# Creates a new table named \"appointments\" in the database with the following columns:\n",
    "# - id: a unique integer primary key to identify each appointment\n",
    "# - user_id: the id of the user making the appointment, references the \"id\" column in the \"users\" table\n",
    "# - doctor_id: the id of the doctor associated with the appointment, references the \"id\" column in the \"doctors\" table\n",
    "# - date_time: the date and time of the appointment\n",
    "# The FOREIGN KEY constraints ensure that only valid user and doctor ids can be associated with an appointment\n",
    "\n",
    "con.execute(\"\"\"CREATE TABLE appointments (\n",
    "    id INTEGER PRIMARY KEY,\n",
    "    user_id INTEGER,\n",
    "    doctor_id INTEGER,\n",
    "    date_time DATETIME,\n",
    "    FOREIGN KEY (user_id) REFERENCES users(id),\n",
    "    FOREIGN KEY (doctor_id) REFERENCES doctors(id)\n",
    ");\n",
    "\"\"\")\n"
   ]
  },
  {
   "cell_type": "code",
   "execution_count": null,
   "metadata": {},
   "outputs": [],
   "source": [
    "# Creates a new table named \"users\" in the database with the following columns:\n",
    "# - id: a unique integer primary key to identify each user\n",
    "# - name: the user's full name\n",
    "# - email: the user's email address\n",
    "\n",
    "con.execute(\"\"\"CREATE TABLE users (\n",
    "    id INTEGER PRIMARY KEY,\n",
    "    name TEXT,\n",
    "    email TEXT\n",
    ");\n",
    "\"\"\")"
   ]
  },
  {
   "cell_type": "code",
   "execution_count": null,
   "metadata": {},
   "outputs": [],
   "source": [
    "# Creates a new table named \"doctors\" in the database with the following columns:\n",
    "# - id: a unique integer primary key to identify each doctor\n",
    "# - name: the doctor's full name\n",
    "# - specialty: the doctor's medical specialty\n",
    "# - hospital_id: the id of the hospital where the doctor works, references the \"id\" column in the \"hospitals\" table\n",
    "# The FOREIGN KEY constraint ensures that only valid hospital ids can be associated with a doctor\n",
    "\n",
    "\n",
    "con.execute(\"\"\"CREATE TABLE doctors (\n",
    "    id INTEGER PRIMARY KEY,\n",
    "    name TEXT,\n",
    "    specialty TEXT,\n",
    "    hospital_id INTEGER,\n",
    "    FOREIGN KEY (hospital_id) REFERENCES hospitals(id)\n",
    ");\n",
    "\"\"\")"
   ]
  },
  {
   "cell_type": "code",
   "execution_count": null,
   "metadata": {},
   "outputs": [],
   "source": [
    "# Creates a new table named \"hospitals\" in the database with the following columns:\n",
    "# - id: a unique integer primary key to identify each hospital\n",
    "# - name: the hospital's name\n",
    "# - location: the hospital's physical location (e.g. address, city, state)\n",
    "con.execute(\"\"\"CREATE TABLE hospitals (\n",
    "    id INTEGER PRIMARY KEY,\n",
    "    name TEXT,\n",
    "    location TEXT\n",
    ");\n",
    "\"\"\")"
   ]
  },
  {
   "cell_type": "code",
   "execution_count": null,
   "metadata": {},
   "outputs": [],
   "source": [
    "con.execute(\"select * from hospitals\").fetchall()"
   ]
  },
  {
   "cell_type": "code",
   "execution_count": null,
   "metadata": {},
   "outputs": [],
   "source": [
    "con.execute(\"select * from doctors\").fetchall()"
   ]
  },
  {
   "cell_type": "code",
   "execution_count": 5,
   "metadata": {},
   "outputs": [],
   "source": [
    "cur = con.cursor() #create a cursor object to interact with the database"
   ]
  },
  {
   "cell_type": "code",
   "execution_count": null,
   "metadata": {},
   "outputs": [],
   "source": [
    "# Count the number of appointments\n",
    "# Execute a SQL query to count the number of rows in the \"appointments\" table\n",
    "cur.execute(\"SELECT COUNT(*) FROM appointments\")\n",
    "# Fetch the first result from the query, which is the count of appointments\n",
    "total_appointments = cur.fetchone()[0]\n",
    "# Print the total number of appointments\n",
    "print(\"Total Appointments:\", total_appointments)"
   ]
  },
  {
   "cell_type": "code",
   "execution_count": null,
   "metadata": {},
   "outputs": [],
   "source": [
    "# Count the number of appointments for each user\n",
    "# Execute a SQL query to count the number of appointments for each user\n",
    "# The query joins the \"users\" table with the \"appointments\" table on the user_id column\n",
    "# It groups the results by user ID and returns the user ID, name, and count of appointments\n",
    "cur.execute(\"\"\"SELECT users.id, users.name, COUNT(appointments.id) AS num_appointments\n",
    "               FROM users\n",
    "               LEFT JOIN appointments ON users.id = appointments.user_id\n",
    "               GROUP BY users.id\"\"\")\n",
    "# Fetch all the results from the query, which is a list of tuples containing user info and appointment count\n",
    "user_appointments = cur.fetchall()\n",
    "# Print the header for the user appointment list\n",
    "print(\"\\nUser Appointments:\")\n",
    "# Iterate over the results and print each user's appointment count\n",
    "for user in user_appointments:\n",
    "    print(user)  # Each user is a tuple containing (id, name, num_appointments)"
   ]
  },
  {
   "cell_type": "code",
   "execution_count": null,
   "metadata": {},
   "outputs": [],
   "source": [
    "# Count the number of appointments for each doctor\n",
    "# Execute a SQL query to count the number of appointments for each doctor\n",
    "# The query joins the \"doctors\" table with the \"appointments\" table on the doctor_id column\n",
    "# It groups the results by doctor ID and returns the doctor ID, name, and count of appointments\n",
    "cur.execute(\"\"\"SELECT doctors.id, doctors.name, COUNT(appointments.id) AS num_appointments\n",
    "               FROM doctors\n",
    "               LEFT JOIN appointments ON doctors.id = appointments.doctor_id\n",
    "               GROUP BY doctors.id\"\"\")\n",
    "# Fetch all the results from the query, which is a list of tuples containing doctor info and appointment count\n",
    "doctor_appointments = cur.fetchall()\n",
    "# Print the header for the doctor appointment list\n",
    "print(\"\\nDoctor Appointments:\")\n",
    "# Iterate over the results and print each doctor's appointment count\n",
    "for doctor in doctor_appointments:\n",
    "    print(doctor)  # Each doctor is a tuple containing (id, name, num_appointments)"
   ]
  },
  {
   "cell_type": "code",
   "execution_count": null,
   "metadata": {},
   "outputs": [],
   "source": [
    "# Count the number of appointments for each hospital\n",
    "# Execute a SQL query to count the number of appointments for each hospital\n",
    "# The query joins the \"hospitals\" table with the \"doctors\" table on the hospital_id column\n",
    "# It then joins the result with the \"appointments\" table on the doctor_id column\n",
    "# It groups the results by hospital ID and returns the hospital ID, name, and count of appointments\n",
    "cur.execute(\"\"\"SELECT hospitals.id, hospitals.name, COUNT(appointments.id) AS num_appointments\n",
    "               FROM hospitals\n",
    "               LEFT JOIN doctors ON hospitals.id = doctors.hospital_id\n",
    "               LEFT JOIN appointments ON doctors.id = appointments.doctor_id\n",
    "               GROUP BY hospitals.id\"\"\")\n",
    "# Fetch all the results from the query, which is a list of tuples containing hospital info and appointment count\n",
    "hospital_appointments = cur.fetchall()\n",
    "# Print the header for the hospital appointment list\n",
    "print(\"\\nHospital Appointments:\")\n",
    "# Iterate over the results and print each hospital's appointment count\n",
    "for hospital in hospital_appointments:\n",
    "    print(hospital)  # Each hospital is a tuple containing (id, name, num_appointments)"
   ]
  },
  {
   "cell_type": "code",
   "execution_count": 10,
   "metadata": {},
   "outputs": [
    {
     "name": "stdout",
     "output_type": "stream",
     "text": [
      "\n",
      "Busiest Time for Appointments: 2024-05-06 22:00 - Number of Appointments: 107\n"
     ]
    }
   ],
   "source": [
    "# Find the busiest day/time for appointments (assuming date_time is in DATETIME format)\n",
    "# Execute a SQL query to extract the busiest day/time for appointments\n",
    "# The query uses the strftime function to format the date_time column as 'YYYY-MM-DD HH:MM'\n",
    "# It groups the results by the formatted appointment time and counts the number of appointments for each time\n",
    "# The results are then ordered in descending order by the number of appointments and limited to the top 1 row\n",
    "cur.execute(\"\"\"SELECT strftime('%Y-%m-%d %H:%M', date_time) AS appointment_time, COUNT(id) AS num_appointments\n",
    "               FROM appointments\n",
    "               GROUP BY appointment_time\n",
    "               ORDER BY num_appointments DESC\n",
    "               LIMIT 1\"\"\")\n",
    "# Fetch the single result from the query, which is a tuple containing the busiest time and number of appointments\n",
    "busiest_time = cur.fetchone()\n",
    "# Print the busiest time for appointments and the corresponding number of appointments\n",
    "print(\"\\nBusiest Time for Appointments:\", busiest_time[0], \"- Number of Appointments:\", busiest_time[1])"
   ]
  },
  {
   "cell_type": "code",
   "execution_count": null,
   "metadata": {},
   "outputs": [],
   "source": [
    "# Find the most popular specialty\n",
    "# Execute a SQL query to count the number of doctors for each specialty\n",
    "# The query groups the results by specialty and counts the number of doctors for each specialty\n",
    "# The results are then ordered in descending order by the number of doctors and limited to the top 1 row\n",
    "cur.execute(\"\"\"SELECT specialty, COUNT(doctors.id) AS num_doctors\n",
    "               FROM doctors\n",
    "               GROUP BY specialty\n",
    "               ORDER BY num_doctors DESC\n",
    "               LIMIT 1\"\"\")\n",
    "# Fetch the single result from the query, which is a tuple containing the most popular specialty and number of doctors\n",
    "most_popular_specialty = cur.fetchone()\n",
    "# Print the most popular specialty and the corresponding number of doctors\n",
    "print(\"\\nMost Popular Specialty:\", most_popular_specialty[0], \"- Number of Doctors:\", most_popular_specialty[1])"
   ]
  },
  {
   "cell_type": "code",
   "execution_count": null,
   "metadata": {},
   "outputs": [],
   "source": [
    "# Join appointments with users to get user details\n",
    "# Execute a SQL query to join the appointments table with the users table\n",
    "# The query selects the appointment ID, date and time, and user name and email\n",
    "# The join is performed on the user_id column in the appointments table and the id column in the users table\n",
    "cur.execute(\"\"\"SELECT appointments.id, appointments.date_time, users.name AS user_name, users.email AS user_email\n",
    "               FROM appointments\n",
    "               INNER JOIN users ON appointments.user_id = users.id\"\"\")\n",
    "# Fetch all the results from the query, which is a list of tuples containing appointment and user details\n",
    "appointments_with_users = cur.fetchall()\n",
    "# Print the header for the appointment list with user details\n",
    "print(\"Appointments with User Details:\")\n",
    "# Iterate over the results and print each appointment with user details\n",
    "for appointment in appointments_with_users:\n",
    "    print(appointment)  # Each appointment is a tuple containing (id, date_time, user_name, user_email)"
   ]
  },
  {
   "cell_type": "code",
   "execution_count": null,
   "metadata": {},
   "outputs": [],
   "source": [
    "# Join appointments with doctors to get doctor details\n",
    "# Execute a SQL query to join the appointments table with the doctors table\n",
    "# The query selects the appointment ID, date and time, doctor name, specialty, and hospital name\n",
    "# The join is performed on the doctor_id column in the appointments table and the id column in the doctors table\n",
    "# The hospital name is obtained by joining the doctors table with the hospitals table on the hospital_id column\n",
    "cur.execute(\"\"\"SELECT appointments.id, appointments.date_time, doctors.name AS doctor_name, doctors.specialty, hospitals.name AS hospital_name\n",
    "               FROM appointments\n",
    "               INNER JOIN doctors ON appointments.doctor_id = doctors.id\n",
    "               INNER JOIN hospitals ON doctors.hospital_id = hospitals.id\"\"\")\n",
    "# Fetch all the results from the query, which is a list of tuples containing appointment and doctor details\n",
    "appointments_with_doctors = cur.fetchall()\n",
    "# Print the header for the appointment list with doctor details\n",
    "print(\"\\nAppointments with Doctor Details:\")\n",
    "# Iterate over the results and print each appointment with doctor details\n",
    "for appointment in appointments_with_doctors:\n",
    "    print(appointment) "
   ]
  },
  {
   "cell_type": "code",
   "execution_count": null,
   "metadata": {},
   "outputs": [],
   "source": [
    "# Join doctors with hospitals to get hospital details\n",
    "# Execute a SQL query to join the doctors table with the hospitals table\n",
    "# The query selects the doctor name, specialty, hospital name, and hospital location\n",
    "# The join is performed on the hospital_id column in the doctors table and the id column in the hospitals table\n",
    "cur.execute(\"\"\"SELECT doctors.name AS doctor_name, doctors.specialty, hospitals.name AS hospital_name, hospitals.location\n",
    "               FROM doctors\n",
    "               INNER JOIN hospitals ON doctors.hospital_id = hospitals.id\"\"\")\n",
    "# Fetch all the results from the query, which is a list of tuples containing doctor and hospital details\n",
    "doctors_with_hospitals = cur.fetchall()\n",
    "# Print the header for the doctor list with hospital details\n",
    "print(\"\\nDoctors with Hospital Details:\")\n",
    "# Iterate over the results and print each doctor with hospital details\n",
    "for doctor in doctors_with_hospitals:\n",
    "    print(doctor)  # Each doctor is a tuple containing (doctor_name, specialty, hospital_name, hospital_location)"
   ]
  },
  {
   "cell_type": "code",
   "execution_count": null,
   "metadata": {},
   "outputs": [],
   "source": [
    "# Analyze appointment distribution by specialty\n",
    "cur.execute(\"\"\"SELECT specialty, COUNT(*) AS num_appointments\n",
    "               FROM appointments\n",
    "               INNER JOIN doctors ON appointments.doctor_id = doctors.id\n",
    "               GROUP BY specialty\"\"\")\n",
    "appointment_distribution = cur.fetchall()\n",
    "specialties, num_appointments = zip(*appointment_distribution)\n",
    "\n",
    "plt.figure(figsize=(15, 8))\n",
    "plt.bar(specialties, num_appointments)\n",
    "plt.title('Appointment Distribution by Specialty')\n",
    "plt.xlabel('Specialty')\n",
    "plt.ylabel('Number of Appointments')\n",
    "plt.xticks(rotation=45)\n",
    "plt.grid(axis='y')\n",
    "plt.tight_layout()\n",
    "plt.show()"
   ]
  },
  {
   "cell_type": "code",
   "execution_count": null,
   "metadata": {},
   "outputs": [],
   "source": [
    "# Analyze appointment distribution by doctor\n",
    "cur.execute(\"\"\"SELECT doctors.name, COUNT(*) AS num_appointments\n",
    "               FROM appointments\n",
    "               INNER JOIN doctors ON appointments.doctor_id = doctors.id\n",
    "               GROUP BY doctors.name\"\"\")\n",
    "appointment_distribution = cur.fetchall()\n",
    "doctors, num_appointments = zip(*appointment_distribution)\n",
    "\n",
    "plt.figure(figsize=(15, 8))\n",
    "plt.bar(doctors, num_appointments, color='lightgreen')\n",
    "plt.title('Appointment Distribution by Doctor')\n",
    "plt.xlabel('Doctor')\n",
    "plt.ylabel('Number of Appointments')\n",
    "plt.xticks(rotation=45, ha='right')\n",
    "plt.grid(axis='y')\n",
    "plt.tight_layout()\n",
    "plt.show()"
   ]
  },
  {
   "cell_type": "code",
   "execution_count": null,
   "metadata": {},
   "outputs": [],
   "source": [
    "# Analyze appointment distribution by hospital location\n",
    "cur.execute(\"\"\"SELECT hospitals.location, COUNT(*) AS num_appointments\n",
    "               FROM appointments\n",
    "               INNER JOIN doctors ON appointments.doctor_id = doctors.id\n",
    "               INNER JOIN hospitals ON doctors.hospital_id = hospitals.id\n",
    "               GROUP BY hospitals.location\"\"\")\n",
    "appointment_distribution = cur.fetchall()\n",
    "locations, num_appointments = zip(*appointment_distribution)\n",
    "\n",
    "plt.figure(figsize=(15, 8))\n",
    "plt.bar(locations, num_appointments, color='lightcoral')\n",
    "plt.title('Appointment Distribution by Hospital Location')\n",
    "plt.xlabel('Location')\n",
    "plt.ylabel('Number of Appointments')\n",
    "plt.xticks(rotation=45, ha='right')\n",
    "plt.grid(axis='y')\n",
    "plt.tight_layout()\n",
    "plt.show()\n"
   ]
  },
  {
   "cell_type": "code",
   "execution_count": null,
   "metadata": {},
   "outputs": [],
   "source": [
    "# Analyze user distribution by hospital\n",
    "cur.execute(\"\"\"SELECT hospitals.name, COUNT(*) AS num_users\n",
    "               FROM users\n",
    "               INNER JOIN doctors ON users.id = doctors.id\n",
    "               INNER JOIN hospitals ON doctors.hospital_id = hospitals.id\n",
    "               GROUP BY hospitals.name\"\"\")\n",
    "user_distribution = cur.fetchall()\n",
    "hospitals, num_users = zip(*user_distribution)\n",
    "\n",
    "plt.figure(figsize=(15, 8))\n",
    "plt.bar(hospitals, num_users, color='skyblue')\n",
    "plt.title('User Distribution by Hospital')\n",
    "plt.xlabel('Hospital')\n",
    "plt.ylabel('Number of Users')\n",
    "plt.xticks(rotation=45, ha='right')\n",
    "plt.grid(axis='y')\n",
    "plt.tight_layout()\n",
    "plt.show()\n"
   ]
  },
  {
   "cell_type": "code",
   "execution_count": null,
   "metadata": {},
   "outputs": [],
   "source": [
    "# Analyze appointment distribution by date\n",
    "cur.execute(\"\"\"SELECT DATE(date_time) AS appointment_date, COUNT(*) AS num_appointments\n",
    "               FROM appointments\n",
    "               GROUP BY appointment_date\"\"\")\n",
    "appointment_distribution = cur.fetchall()\n",
    "dates, num_appointments = zip(*appointment_distribution)\n",
    "\n",
    "plt.figure(figsize=(15, 8))\n",
    "plt.plot(dates, num_appointments, marker='o', color='orange')\n",
    "plt.title('Appointment Distribution by Date')\n",
    "plt.xlabel('Date')\n",
    "plt.ylabel('Number of Appointments')\n",
    "plt.xticks(rotation=45, ha='right')\n",
    "plt.grid(axis='y')\n",
    "plt.tight_layout()\n",
    "plt.show()"
   ]
  },
  {
   "cell_type": "code",
   "execution_count": null,
   "metadata": {},
   "outputs": [],
   "source": [
    "# Analyze appointment distribution by hour\n",
    "cur.execute(\"\"\"SELECT strftime('%H', date_time) AS appointment_hour, COUNT(*) AS num_appointments\n",
    "               FROM appointments\n",
    "               GROUP BY appointment_hour\"\"\")\n",
    "appointment_distribution = cur.fetchall()\n",
    "hours, num_appointments = zip(*appointment_distribution)\n",
    "\n",
    "plt.figure(figsize=(15, 8))\n",
    "plt.bar(hours, num_appointments, color='salmon')\n",
    "plt.title('Appointment Distribution by Hour')\n",
    "plt.xlabel('Hour')\n",
    "plt.ylabel('Number of Appointments')\n",
    "plt.xticks(rotation=45)\n",
    "plt.grid(axis='y')\n",
    "plt.tight_layout()\n",
    "plt.show()\n"
   ]
  },
  {
   "cell_type": "code",
   "execution_count": null,
   "metadata": {},
   "outputs": [],
   "source": []
  }
 ],
 "metadata": {
  "kernelspec": {
   "display_name": "base",
   "language": "python",
   "name": "python3"
  },
  "language_info": {
   "codemirror_mode": {
    "name": "ipython",
    "version": 3
   },
   "file_extension": ".py",
   "mimetype": "text/x-python",
   "name": "python",
   "nbconvert_exporter": "python",
   "pygments_lexer": "ipython3",
   "version": "3.11.3"
  }
 },
 "nbformat": 4,
 "nbformat_minor": 2
}
